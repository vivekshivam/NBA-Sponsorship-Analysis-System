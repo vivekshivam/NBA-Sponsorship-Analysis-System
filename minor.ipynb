{
  "nbformat": 4,
  "nbformat_minor": 0,
  "metadata": {
    "colab": {
      "provenance": [],
      "gpuType": "T4"
    },
    "kernelspec": {
      "name": "python3",
      "display_name": "Python 3"
    },
    "language_info": {
      "name": "python"
    },
    "accelerator": "GPU"
  },
  "cells": [
    {
      "cell_type": "code",
      "execution_count": 25,
      "metadata": {
        "id": "5p6VWYRfc-nn"
      },
      "outputs": [],
      "source": [
        "import numpy as np\n",
        "import pandas as pd\n",
        "import matplotlib.pyplot as plt\n",
        "import seaborn as sns\n",
        "from sklearn.linear_model import LogisticRegression\n",
        "from sklearn.model_selection import train_test_split\n",
        "from sklearn import metrics\n",
        "from sklearn.metrics import classification_report\n",
        "import warnings\n",
        "warnings.filterwarnings('ignore')"
      ]
    },
    {
      "cell_type": "code",
      "source": [
        "col_names = ['year', 'company_name', 'prev_year', 'current_year', 'profit', 'growth']\n",
        "data = pd.read_csv(\"/content/dataset1 - Copy of Sheet1.csv\", header=None, names=col_names)"
      ],
      "metadata": {
        "id": "rcpkzq2CdlQ1"
      },
      "execution_count": 26,
      "outputs": []
    },
    {
      "cell_type": "code",
      "source": [
        "data = data.drop(index=0)\n",
        "data = data.dropna()"
      ],
      "metadata": {
        "id": "78I1S49pd87j"
      },
      "execution_count": 27,
      "outputs": []
    },
    {
      "cell_type": "code",
      "source": [
        "data.replace(',','', regex=True, inplace=True)"
      ],
      "metadata": {
        "id": "5GFfYGpYjBbX"
      },
      "execution_count": 28,
      "outputs": []
    },
    {
      "cell_type": "code",
      "source": [
        "data.info()"
      ],
      "metadata": {
        "colab": {
          "base_uri": "https://localhost:8080/"
        },
        "id": "g8TfzEqGh1rR",
        "outputId": "8bc6d61b-8caa-4b0e-8615-803aff7387ef"
      },
      "execution_count": 29,
      "outputs": [
        {
          "output_type": "stream",
          "name": "stdout",
          "text": [
            "<class 'pandas.core.frame.DataFrame'>\n",
            "Index: 555 entries, 1 to 565\n",
            "Data columns (total 6 columns):\n",
            " #   Column        Non-Null Count  Dtype \n",
            "---  ------        --------------  ----- \n",
            " 0   year          555 non-null    object\n",
            " 1   company_name  555 non-null    object\n",
            " 2   prev_year     555 non-null    object\n",
            " 3   current_year  555 non-null    object\n",
            " 4   profit        555 non-null    object\n",
            " 5   growth        555 non-null    object\n",
            "dtypes: object(6)\n",
            "memory usage: 30.4+ KB\n"
          ]
        }
      ]
    },
    {
      "cell_type": "code",
      "source": [
        "data.prev_year.astype(float).fillna(0.0)\n",
        "data.current_year.astype(float).fillna(0.0)\n",
        "feature_cols = ['prev_year', 'current_year']\n",
        "\n",
        "X = data[feature_cols]\n",
        "y = data.growth\n",
        "X.columns = ['prev_year', 'current_year']"
      ],
      "metadata": {
        "id": "ml7p9fTreBbH"
      },
      "execution_count": 30,
      "outputs": []
    },
    {
      "cell_type": "code",
      "source": [
        "X_train, X_test, y_train, y_test = train_test_split(X, y, test_size=0.25, random_state= 16)"
      ],
      "metadata": {
        "id": "idP-2YaIfdvF"
      },
      "execution_count": 31,
      "outputs": []
    },
    {
      "cell_type": "code",
      "source": [
        "#machine learning- logistic regression model\n",
        "logreg = LogisticRegression(random_state = 16)\n",
        "logreg.fit(X_train, y_train)\n",
        "y_pred = logreg.predict(X_test)"
      ],
      "metadata": {
        "id": "89jayYSsf73G"
      },
      "execution_count": 32,
      "outputs": []
    },
    {
      "cell_type": "code",
      "source": [
        "#confusion matrix\n",
        "cnf_matrix = metrics.confusion_matrix(y_test, y_pred)"
      ],
      "metadata": {
        "id": "0bSFXDd1gwG8"
      },
      "execution_count": 33,
      "outputs": []
    },
    {
      "cell_type": "code",
      "source": [
        "class_names=['yes','no']\n",
        "fig, ax = plt.subplots()\n",
        "tick_marks = np.arange(len(class_names))\n",
        "plt.xticks(tick_marks, class_names)\n",
        "plt.yticks(tick_marks, class_names)\n",
        "# create heatmap\n",
        "sns.heatmap(pd.DataFrame(cnf_matrix), annot=True, cmap=\"YlGnBu\" ,fmt='g')\n",
        "ax.xaxis.set_label_position(\"top\")\n",
        "plt.tight_layout()\n",
        "plt.title('Confusion matrix', y=1.1)\n",
        "plt.ylabel('Actual label')\n",
        "plt.xlabel('Predicted label')"
      ],
      "metadata": {
        "colab": {
          "base_uri": "https://localhost:8080/",
          "height": 568
        },
        "id": "JvwHT2vgkHIl",
        "outputId": "5dd76e8f-c118-467c-c09d-3e352047e489"
      },
      "execution_count": 34,
      "outputs": [
        {
          "output_type": "execute_result",
          "data": {
            "text/plain": [
              "Text(0.5, 427.9555555555555, 'Predicted label')"
            ]
          },
          "metadata": {},
          "execution_count": 34
        },
        {
          "output_type": "display_data",
          "data": {
            "text/plain": [
              "<Figure size 640x480 with 2 Axes>"
            ],
            "image/png": "[encoded data removed]"
          },
          "metadata": {}
        }
      ]
    },
    {
      "cell_type": "code",
      "source": [
        "target_names = ['yes', 'no']\n",
        "print(classification_report(y_test, y_pred, target_names=target_names))"
      ],
      "metadata": {
        "colab": {
          "base_uri": "https://localhost:8080/"
        },
        "id": "As2Vs_hhkVl2",
        "outputId": "1d6a2bdd-cdcf-45e5-c8a8-180d05efa31a"
      },
      "execution_count": 35,
      "outputs": [
        {
          "output_type": "stream",
          "name": "stdout",
          "text": [
            "              precision    recall  f1-score   support\n",
            "\n",
            "         yes       1.00      0.85      0.92        34\n",
            "          no       0.95      1.00      0.98       105\n",
            "\n",
            "    accuracy                           0.96       139\n",
            "   macro avg       0.98      0.93      0.95       139\n",
            "weighted avg       0.97      0.96      0.96       139\n",
            "\n"
          ]
        }
      ]
    },
    {
      "cell_type": "code",
      "source": [
        "x_new = float(input(\"Enter Amount for Previous Year: \"))\n",
        "y_new = float(input(\"Enter Amount for Current Year: \"))\n",
        "cname = (input(\"Enter Company Name: \"))\n",
        "new_instance_array = np.array([x_new,y_new]).reshape(1, -1)"
      ],
      "metadata": {
        "id": "6PsObmkPlHr0",
        "colab": {
          "base_uri": "https://localhost:8080/"
        },
        "outputId": "ff57ed26-5bea-4b13-8b5e-0d93090eadf6"
      },
      "execution_count": 36,
      "outputs": [
        {
          "name": "stdout",
          "output_type": "stream",
          "text": [
            "Enter Amount for Previous Year: 183.22\n",
            "Enter Amount for Current Year: 229.69\n",
            "Enter Company Name: Toyota\n"
          ]
        }
      ]
    },
    {
      "cell_type": "code",
      "source": [
        "print(\"Company:\",cname,\"\\nPrevious Year Amount(in billion usd): \", x_new,\"\\nCurrent Year Amount(in billion usd): \", y_new, \"\\nDid the company grow? \",logreg.predict(new_instance_array)[0])"
      ],
      "metadata": {
        "id": "Ta09XfnB9Aa-",
        "colab": {
          "base_uri": "https://localhost:8080/"
        },
        "outputId": "1841530e-7c48-47cc-88ec-f2dcf49c64bf"
      },
      "execution_count": 37,
      "outputs": [
        {
          "output_type": "stream",
          "name": "stdout",
          "text": [
            "Company: Toyota \n",
            "Previous Year Amount(in billion usd):  183.22 \n",
            "Current Year Amount(in billion usd):  229.69 \n",
            "Did the company grow?  yes\n"
          ]
        }
      ]
    }
  ]
}